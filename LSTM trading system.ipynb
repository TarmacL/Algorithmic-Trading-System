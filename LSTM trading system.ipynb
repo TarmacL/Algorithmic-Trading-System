{
 "cells": [
  {
   "cell_type": "code",
   "execution_count": 45,
   "metadata": {
    "collapsed": true,
    "pycharm": {
     "name": "#%%\n"
    }
   },
   "outputs": [],
   "source": [
    "import alpaca_trade_api as tradeapi\n",
    "from numpy import array\n",
    "from numpy import hstack\n",
    "from keras.models import Sequential\n",
    "from keras.layers import LSTM\n",
    "from keras.layers import Dense\n",
    "from keras import callbacks\n",
    "from sklearn.model_selection import train_test_split\n",
    "from keras.layers import Flatten\n",
    "from keras.layers import TimeDistributed\n",
    "from keras.layers.convolutional import Conv1D\n",
    "from keras.layers.convolutional import MaxPooling1D\n",
    "from IPython.display import clear_output\n",
    "import datetime\n",
    "import statistics\n",
    "import time\n",
    "import logging\n",
    "import os\n",
    "import json\n",
    "import yfinance as yf\n",
    "from keras.models import model_from_json\n",
    "import requests\n",
    "from keras.models import load_model\n",
    "from matplotlib import pyplot as plt"
   ]
  },
  {
   "cell_type": "code",
   "execution_count": 46,
   "outputs": [
    {
     "data": {
      "text/plain": "                            close    high     low  trade_count   open  \\\ntimestamp                                                               \n2023-12-08 05:00:00+00:00  195.89  195.99  193.67       515247  194.2   \n\n                             volume      vwap  \ntimestamp                                      \n2023-12-08 05:00:00+00:00  38895669  194.9612  ",
      "text/html": "<div>\n<style scoped>\n    .dataframe tbody tr th:only-of-type {\n        vertical-align: middle;\n    }\n\n    .dataframe tbody tr th {\n        vertical-align: top;\n    }\n\n    .dataframe thead th {\n        text-align: right;\n    }\n</style>\n<table border=\"1\" class=\"dataframe\">\n  <thead>\n    <tr style=\"text-align: right;\">\n      <th></th>\n      <th>close</th>\n      <th>high</th>\n      <th>low</th>\n      <th>trade_count</th>\n      <th>open</th>\n      <th>volume</th>\n      <th>vwap</th>\n    </tr>\n    <tr>\n      <th>timestamp</th>\n      <th></th>\n      <th></th>\n      <th></th>\n      <th></th>\n      <th></th>\n      <th></th>\n      <th></th>\n    </tr>\n  </thead>\n  <tbody>\n    <tr>\n      <th>2023-12-08 05:00:00+00:00</th>\n      <td>195.89</td>\n      <td>195.99</td>\n      <td>193.67</td>\n      <td>515247</td>\n      <td>194.2</td>\n      <td>38895669</td>\n      <td>194.9612</td>\n    </tr>\n  </tbody>\n</table>\n</div>"
     },
     "execution_count": 46,
     "metadata": {},
     "output_type": "execute_result"
    }
   ],
   "source": [
    "# Set your API key and secret\n",
    "api_key = 'ur key",
    "api_secret = 'ur secret",
    "base_url = 'https://paper-api.alpaca.markets'  # Use paper trading base URL for testing\n",
    "\n",
    "# Initialize Alpaca API\n",
    "api = tradeapi.REST(api_key, api_secret, base_url, api_version='v2')\n",
    "\n",
    "# Get historical market data\n",
    "symbol = 'AAPL'  # Replace with your desired stock symbol\n",
    "timeframe = '1D'  # Daily timeframe\n",
    "historical_data = api.get_bars(symbol, timeframe).df\n",
    "historical_data.head()"
   ],
   "metadata": {
    "collapsed": false,
    "pycharm": {
     "name": "#%%\n"
    }
   }
  },
  {
   "cell_type": "code",
   "execution_count": 47,
   "outputs": [],
   "source": [
    "def get_data(symbol,data_len,seq_len):\n",
    "    end = datetime.datetime.today().strftime('%Y-%m-%d')\n",
    "    start = datetime.datetime.strptime(end, '%Y-%m-%d') - datetime.timedelta(days=(data_len/0.463))\n",
    "    stock_data = yf.download(symbol,start,end)\n",
    "    close = stock_data['Close'].values\n",
    "    open_ = stock_data['Open'].values\n",
    "    high = stock_data['High'].values\n",
    "    low = stock_data['Low'].values\n",
    "    symbol_data, minmax = normal_data(stock_data)\n",
    "    cols = symbol_data.columns.tolist()\n",
    "\n",
    "    symbol_seq = list()\n",
    "    for i in range(len(cols)):\n",
    "        if cols[i] < 4:\n",
    "            symbol_seq.append(symbol_data[cols[i]].values)\n",
    "            symbol_seq[i] = symbol_seq[i].reshape((len(symbol_seq[i]), 1))\n",
    "    data = hstack(symbol_seq)\n",
    "    n_steps = seq_len\n",
    "    X, y = split_sequences(data, n_steps)\n",
    "    n_features = X.shape[2]\n",
    "    n_seq = len(X)\n",
    "    n_steps = seq_len\n",
    "    print(X.shape)\n",
    "    X = X.reshape((n_seq, 1, n_steps, n_features))\n",
    "    true_y = []\n",
    "    for i in range(len(y)):\n",
    "        true_y.append([y[i][0], y[i][1]])\n",
    "    return X, array(true_y), n_features, minmax, n_steps, close, open_, high, low"
   ],
   "metadata": {
    "collapsed": false,
    "pycharm": {
     "name": "#%%\n"
    }
   }
  },
  {
   "cell_type": "code",
   "execution_count": 48,
   "outputs": [],
   "source": [
    "def split_sequences(seq, n_steps):\n",
    "        X, y = list(), list()\n",
    "        for i in range(len(seq)):\n",
    "            end_idx = i + n_steps\n",
    "            if end_idx > len(seq) - 1:\n",
    "                break\n",
    "            seq_x, seq_y = seq[i:end_idx, :], seq[end_idx, :]\n",
    "            X.append(seq_x)\n",
    "            y.append(seq_y)\n",
    "        return array(X), array(y)"
   ],
   "metadata": {
    "collapsed": false,
    "pycharm": {
     "name": "#%%\n"
    }
   }
  },
  {
   "cell_type": "code",
   "execution_count": 49,
   "outputs": [],
   "source": [
    "def normal_data(stock_data):\n",
    "        cols = stock_data.columns.tolist()\n",
    "        col_name = [0] * len(cols)\n",
    "        for i in range(len(cols)):\n",
    "            col_name[i] = i\n",
    "        stock_data.columns = col_name\n",
    "        value_ranges = list()\n",
    "        for column in stock_data:\n",
    "            symbol_data = symbol_data.astype({column: 'float32'})\n",
    "        for i in range(len(cols)):\n",
    "            col_values = symbol_data[col_name[i]]\n",
    "            value_min = min(col_values)\n",
    "            value_max = max(col_values)\n",
    "            value_ranges.append([value_min, value_max])\n",
    "        for column in symbol_data:\n",
    "            values = symbol_data[column].values\n",
    "            for i in range(len(values)):\n",
    "                values[i] = (values[i] - value_ranges[column][0]) / (value_ranges[column][1] - value_ranges[column][0])\n",
    "            symbol_data[column] = values\n",
    "        symbol_data[column] = values\n",
    "        return symbol_data, value_ranges"
   ],
   "metadata": {
    "collapsed": false,
    "pycharm": {
     "name": "#%%\n"
    }
   }
  },
  {
   "cell_type": "code",
   "execution_count": 50,
   "outputs": [],
   "source": [
    "def split_data(X,y):\n",
    "    X_train, X_test, y_train, y_test = train_test_split(X, y, test_size=0.2, seed = 7777)\n",
    "    return X_train, X_test, y_train, y_test"
   ],
   "metadata": {
    "collapsed": false,
    "pycharm": {
     "name": "#%%\n"
    }
   }
  },
  {
   "cell_type": "code",
   "execution_count": 51,
   "outputs": [],
   "source": [
    "def run_lstm(n_steps,n_features,optimizer = 'Adam'):\n",
    "    lstm_mod = Sequential()\n",
    "    lstm_mod.add(TimeDistributed(Conv1D(filters = 64, kernel_size = 1, activation = 'relu'), input_shape=(None, n_steps, n_features)))\n",
    "    lstm_mod.add(TimeDistributed(MaxPooling1D(pool_size = 2)))\n",
    "    lstm_mod.add(TimeDistributed(Flatten()))\n",
    "    lstm_mod.add(LSTM(50, activation = 'relu'))\n",
    "    lstm_mod.add(Dense(2))\n",
    "    lstm_mod.compile(optimizer = optimizer, loss = 'mse')\n",
    "    return lstm_mod"
   ],
   "metadata": {
    "collapsed": false,
    "pycharm": {
     "name": "#%%\n"
    }
   }
  },
  {
   "cell_type": "code",
   "execution_count": 52,
   "outputs": [],
   "source": [
    "def train_model(X_train, y_train, model, epochs):\n",
    "    dirx = 'C:\\\\Users\\\\85762\\\\OneDrive\\\\Desktop\\\\FINM 325'\n",
    "    os.chdir(dirx)\n",
    "    h5 = 'Stocks'+'_best_model'+'.h5'\n",
    "    checkpoint = callbacks.ModelCheckpoint(h5, monitor='val_loss', verbose=0, save_best_only=True, save_weights_only=True, mode='auto', period=1)\n",
    "    earlystop = callbacks.EarlyStopping(monitor='val_loss', min_delta=0, patience=epochs * 1/4, verbose=0, mode='auto', baseline=None,restore_best_weights=True)\n",
    "    callback = [earlystop, checkpoint]\n",
    "    json = 'Stocks'+'_best_model'+'.json'\n",
    "    model_json = model.to_json()\n",
    "    with open(json, \"w\") as json_file:\n",
    "        json_file.write(model_json)\n",
    "    history = model.fit(X_train, y_train, epochs = epochs, batch_size=len(X_train)//4, verbose = 2,validation_split = 0.3, callbacks = callback)\n",
    "    return history"
   ],
   "metadata": {
    "collapsed": false,
    "pycharm": {
     "name": "#%%\n"
    }
   }
  },
  {
   "cell_type": "code",
   "execution_count": 53,
   "outputs": [],
   "source": [
    "def load_model(dataset, model, loss, optimizer):\n",
    "    dirx = 'C:\\\\Users\\\\85762\\\\OneDrive\\\\Desktop\\\\FINM 325'\n",
    "    os.chdir(dirx)\n",
    "    json_file = open(dataset+'_best_model'+'.json', 'r')\n",
    "    loaded_model_json = json_file.read()\n",
    "    json_file.close()\n",
    "    model = model_from_json(loaded_model_json)\n",
    "    model.compile(optimizer = optimizer, loss = loss, metrics = None)\n",
    "    model.load_weights(dataset+'_best_model'+'.h5')\n",
    "    return model"
   ],
   "metadata": {
    "collapsed": false,
    "pycharm": {
     "name": "#%%\n"
    }
   }
  },
  {
   "cell_type": "code",
   "execution_count": 54,
   "outputs": [],
   "source": [
    "def model_predict(model, value_ranges, n_features, n_steps, data, test_loss):\n",
    "    new_data = data[-1].reshape((len(data[-1]), 1, n_steps, n_features))\n",
    "    prediction = model.predict(new_data)[0]\n",
    "    predict_loss = list()\n",
    "    for i in range(len(prediction)):\n",
    "        prediction[i] = prediction[i] * (value_ranges[i][1] - value_ranges[i][0]) + value_ranges[i][0]\n",
    "        predict_loss.append(((100-test_loss) / 100) * (value_ranges[i][1] - value_ranges[i][0]))\n",
    "    return prediction, predict_loss"
   ],
   "metadata": {
    "collapsed": false,
    "pycharm": {
     "name": "#%%\n"
    }
   }
  },
  {
   "cell_type": "code",
   "execution_count": 55,
   "outputs": [],
   "source": [
    "def create_order(prediction, company, test_loss, predict_loss):\n",
    "    open_price, close_price = prediction[0], prediction[1]\n",
    "    if open_price > close_price:\n",
    "        side = 'sell'\n",
    "    elif open_price < close_price:\n",
    "        side = 'buy'\n",
    "    if side == 'buy':\n",
    "        order = {\n",
    "            'symbol': company,\n",
    "            'quantity': round(20 * (test_loss / 100)),\n",
    "            'type': 'stop_limit',\n",
    "            'time_in_force': 'day',\n",
    "            'side': 'buy',\n",
    "            'take_profit': close_price + predict_loss,\n",
    "            'stop_loss': close_price - predict_loss\n",
    "                }\n",
    "    elif side == 'sell':\n",
    "        order = {\n",
    "            'symbol': company,\n",
    "            'quantity': round(20 * (test_loss / 100)),\n",
    "            'type': 'stop_limit',\n",
    "            'time_in_force': 'day',\n",
    "            'side': 'sell',\n",
    "            'take_profit': close_price - predict_loss,\n",
    "            'stop_loss': close_price + predict_loss\n",
    "                }\n",
    "    r = requests.post(ORDERS_URL, json = order, headers = HEADERS)\n",
    "    print(r.content)"
   ],
   "metadata": {
    "collapsed": false,
    "pycharm": {
     "name": "#%%\n"
    }
   }
  },
  {
   "cell_type": "code",
   "execution_count": null,
   "outputs": [],
   "source": [
    "symbol = \"AAPL\"\n",
    "interval = 60\n",
    "data_len = 365\n",
    "seq_len = 60\n",
    "epochs = 10\n",
    "\n",
    "BASE_URL = 'https://paper-api.alpaca.markets'\n",
    "API_KEY = 'ur key",
    "SECRET_KEY = 'ur secret",
    "ORDERS_URL = '{}/v2/orders'.format(BASE_URL)\n",
    "HEADERS = {'APCA-API-KEY-ID':API_KEY,'APCA-API-SECRET-KEY':SECRET_KEY}\n",
    "\n",
    "model_dir = 'C:\\\\Users\\\\85762\\\\OneDrive\\\\Desktop\\\\FINM 325'\n",
    "model_file = model_dir + '\\\\Stocks_best_model.h5'\n",
    "\n",
    "logging.basicConfig(filename='trading_log.log', level=logging.INFO, format='%(asctime)s - %(levelname)s - %(message)s')\n",
    "\n",
    "while True:\n",
    "    try:\n",
    "        logging.info(\"Starting trading cycle.\")\n",
    "\n",
    "        # Step 1: Data Retrieval\n",
    "        X, true_y, n_features, minmax, n_steps, close, open_, high, low = get_data(symbol, data_len, seq_len)\n",
    "        logging.info(\"Data retrieved successfully.\")\n",
    "\n",
    "        # Step 2: Check if Model Exists, Load or Train Model\n",
    "        if os.path.exists(model_file):\n",
    "            # Load the pre-trained model\n",
    "            model = load_model(symbol, Sequential, 'mse', 'Adam')\n",
    "            logging.info(\"Loaded pre-trained model.\")\n",
    "        else:\n",
    "            # Train a new model\n",
    "            model = run_lstm(n_steps, n_features)\n",
    "            X_train, X_test, y_train, y_test = split_data(X, true_y)\n",
    "            test_loss = model.evaluate(X_test, y_test, verbose=0)\n",
    "            history = train_model(X_train, y_train, model, epochs)\n",
    "            logging.info(\"New model trained.\")\n",
    "\n",
    "        # Step 3: Make Prediction\n",
    "        prediction, predict_loss = model_predict(model, minmax, n_features, n_steps, X, test_loss)\n",
    "        logging.info(f\"Prediction made: {prediction}\")\n",
    "\n",
    "        # Step 4: Execute Trade\n",
    "        create_order(prediction, symbol, test_loss, predict_loss)\n",
    "        logging.info(\"Trade executed.\")\n",
    "\n",
    "        # Step 5: Wait\n",
    "        time.sleep(interval)\n",
    "\n",
    "    except Exception as e:\n",
    "        logging.error(f\"An error occurred: {e}\")"
   ],
   "metadata": {
    "collapsed": false,
    "pycharm": {
     "name": "#%%\n"
    }
   }
  }
 ],
 "metadata": {
  "kernelspec": {
   "display_name": "Python 3",
   "language": "python",
   "name": "python3"
  },
  "language_info": {
   "codemirror_mode": {
    "name": "ipython",
    "version": 2
   },
   "file_extension": ".py",
   "mimetype": "text/x-python",
   "name": "python",
   "nbconvert_exporter": "python",
   "pygments_lexer": "ipython2",
   "version": "2.7.6"
  }
 },
 "nbformat": 4,
 "nbformat_minor": 0
}
